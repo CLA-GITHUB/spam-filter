{
 "cells": [
  {
   "cell_type": "code",
   "execution_count": 1,
   "metadata": {},
   "outputs": [],
   "source": [
    "import os\n",
    "import pandas as pd\n",
    "from sklearn.model_selection import train_test_split\n",
    "import matplotlib.pyplot as plt\n",
    "from sklearn.feature_extraction.text import CountVectorizer\n",
    "from sklearn.naive_bayes import MultinomialNB"
   ]
  },
  {
   "cell_type": "code",
   "execution_count": 2,
   "metadata": {},
   "outputs": [],
   "source": [
    "#Read file and paths\n",
    "def getPaths(path):\n",
    "    paths = []\n",
    "    for root, dirnames, filenames in os.walk(path):\n",
    "        for filename in filenames:\n",
    "            path = os.path.join(root, filename)\n",
    "            paths.append(path)\n",
    "    return paths\n",
    "\n",
    "def readFiles(path, classification):\n",
    "    rows = []\n",
    "    for paths in getPaths(path):\n",
    "        f = open(paths, 'r', encoding='latin1')\n",
    "        emails = f.read()\n",
    "        rows.append({'emails': emails, 'label': classification})\n",
    "    return pd.DataFrame(rows)"
   ]
  },
  {
   "cell_type": "code",
   "execution_count": 3,
   "metadata": {},
   "outputs": [],
   "source": [
    "#Read Datasets and classification each dataset with their classification (spam or ham)\n",
    "data = pd.DataFrame({'emails': [], 'label': []})\n",
    "data = data.append(readFiles('C:\\\\Users\\\\USER\\\\Documents\\\\proj\\\\enron1\\\\ham', 'ham'))\n",
    "data = data.append(readFiles('C:\\\\Users\\\\USER\\\\Documents\\\\proj\\\\enron1\\\\spam', 'spam'))\n",
    "\n",
    "data = data.append(readFiles('C:\\\\Users\\\\USER\\\\Documents\\\\proj\\\\enron2\\\\ham', 'ham'))\n",
    "data = data.append(readFiles('C:\\\\Users\\\\USER\\\\Documents\\\\proj\\\\enron2\\\\spam', 'spam'))\n",
    "\n",
    "data = data.append(readFiles('C:\\\\Users\\\\USER\\\\Documents\\\\proj\\\\enron3\\\\ham', 'ham'))\n",
    "data = data.append(readFiles('C:\\\\Users\\\\USER\\\\Documents\\\\proj\\\\enron3\\\\spam', 'spam'))\n",
    "\n",
    "data = data.append(readFiles('C:\\\\Users\\\\USER\\\\Documents\\\\proj\\\\enron4\\\\ham', 'ham'))\n",
    "data = data.append(readFiles('C:\\\\Users\\\\USER\\\\Documents\\\\proj\\\\enron4\\\\spam', 'spam'))\n",
    "\n",
    "data = data.append(readFiles('C:\\\\Users\\\\USER\\\\Documents\\\\proj\\\\enron5\\\\ham', 'ham'))\n",
    "data = data.append(readFiles('C:\\\\Users\\\\USER\\\\Documents\\\\proj\\\\enron5\\\\spam', 'spam'))\n",
    "\n",
    "data = data.append(readFiles('C:\\\\Users\\\\USER\\\\Documents\\\\proj\\\\enron6\\\\ham', 'ham'))\n",
    "data = data.append(readFiles('C:\\\\Users\\\\USER\\\\Documents\\\\proj\\\\enron6\\\\spam', 'spam'))\n",
    "\n",
    "data = data.append(readFiles('C:\\\\Users\\\\USER\\\\Documents\\\\proj\\\\emails\\\\ham', 'ham'))\n",
    "data = data.append(readFiles('C:\\\\Users\\\\USER\\\\Documents\\\\proj\\\\emails\\\\spam', 'spam'))\n",
    "\n",
    "data = data.append(readFiles('C:\\\\Users\\\\USER\\\\Documents\\\\proj\\\\spam_assasin\\\\easy_ham_2', 'ham'))\n",
    "data = data.append(readFiles('C:\\\\Users\\\\USER\\\\Documents\\\\proj\\\\spam_assasin\\\\hard_ham', 'ham'))\n",
    "data = data.append(readFiles('C:\\\\Users\\\\USER\\\\Documents\\\\proj\\\\spam_assasin\\\\spam', 'spam'))\n",
    "data = data.append(readFiles('C:\\\\Users\\\\USER\\\\Documents\\\\proj\\\\spam_assasin\\\\spam_2', 'spam'))"
   ]
  },
  {
   "cell_type": "code",
   "execution_count": 4,
   "metadata": {},
   "outputs": [
    {
     "name": "stdout",
     "output_type": "stream",
     "text": [
      "<class 'pandas.core.frame.DataFrame'>\n",
      "Int64Index: 40266 entries, 0 to 1396\n",
      "Data columns (total 2 columns):\n",
      " #   Column  Non-Null Count  Dtype \n",
      "---  ------  --------------  ----- \n",
      " 0   emails  40266 non-null  object\n",
      " 1   label   40266 non-null  object\n",
      "dtypes: object(2)\n",
      "memory usage: 943.7+ KB\n"
     ]
    }
   ],
   "source": [
    "data.info()"
   ]
  },
  {
   "cell_type": "code",
   "execution_count": 5,
   "metadata": {},
   "outputs": [
    {
     "data": {
      "text/html": [
       "<div>\n",
       "<style scoped>\n",
       "    .dataframe tbody tr th:only-of-type {\n",
       "        vertical-align: middle;\n",
       "    }\n",
       "\n",
       "    .dataframe tbody tr th {\n",
       "        vertical-align: top;\n",
       "    }\n",
       "\n",
       "    .dataframe thead th {\n",
       "        text-align: right;\n",
       "    }\n",
       "</style>\n",
       "<table border=\"1\" class=\"dataframe\">\n",
       "  <thead>\n",
       "    <tr style=\"text-align: right;\">\n",
       "      <th></th>\n",
       "      <th>emails</th>\n",
       "      <th>label</th>\n",
       "    </tr>\n",
       "  </thead>\n",
       "  <tbody>\n",
       "    <tr>\n",
       "      <th>count</th>\n",
       "      <td>40266</td>\n",
       "      <td>40266</td>\n",
       "    </tr>\n",
       "    <tr>\n",
       "      <th>unique</th>\n",
       "      <td>37034</td>\n",
       "      <td>2</td>\n",
       "    </tr>\n",
       "    <tr>\n",
       "      <th>top</th>\n",
       "      <td>Subject: \\n</td>\n",
       "      <td>ham</td>\n",
       "    </tr>\n",
       "    <tr>\n",
       "      <th>freq</th>\n",
       "      <td>51</td>\n",
       "      <td>20697</td>\n",
       "    </tr>\n",
       "  </tbody>\n",
       "</table>\n",
       "</div>"
      ],
      "text/plain": [
       "             emails  label\n",
       "count         40266  40266\n",
       "unique        37034      2\n",
       "top     Subject: \\n    ham\n",
       "freq             51  20697"
      ]
     },
     "execution_count": 5,
     "metadata": {},
     "output_type": "execute_result"
    }
   ],
   "source": [
    "data.describe()"
   ]
  },
  {
   "cell_type": "code",
   "execution_count": 6,
   "metadata": {},
   "outputs": [
    {
     "data": {
      "text/plain": [
       "Index(['emails', 'label'], dtype='object')"
      ]
     },
     "execution_count": 6,
     "metadata": {},
     "output_type": "execute_result"
    }
   ],
   "source": [
    "data.columns"
   ]
  },
  {
   "cell_type": "code",
   "execution_count": 7,
   "metadata": {},
   "outputs": [],
   "source": [
    "#Removing symbols so the dataset can be split to train and test\n",
    "spec_chars = [\"!\",'\"',\"#\",\"%\",\"&\",\"'\",\"(\",\")\",\n",
    "              \"*\",\"+\",\",\",\"-\",\".\",\"/\",\":\",\";\",\"<\",\n",
    "              \"=\",\">\",\"?\",\"@\",\"[\",\"\\\\\",\"]\",\"^\",\"_\",\n",
    "              \"`\",\"{\",\"|\",\"}\",\"~\",\"–\",\"$\"]\n",
    "\n",
    "for char in spec_chars:\n",
    "    data['emails'] = data['emails'].str.replace(char, ' ')\n",
    "    \n",
    "#Removing extra whiteSpaces\n",
    "data['emails'] = data['emails'].str.split().str.join(\" \")\n",
    "    \n",
    "X = data['emails']\n",
    "y = data['label']"
   ]
  },
  {
   "cell_type": "code",
   "execution_count": 8,
   "metadata": {},
   "outputs": [
    {
     "data": {
      "text/plain": [
       "count       26978\n",
       "unique      25256\n",
       "top       Subject\n",
       "freq           32\n",
       "Name: emails, dtype: object"
      ]
     },
     "execution_count": 8,
     "metadata": {},
     "output_type": "execute_result"
    }
   ],
   "source": [
    "#Split dataset into train and test\n",
    "X_train, X_test, y_train, y_test = train_test_split(X, y, test_size=0.33, random_state=42)\n",
    "X_train.describe()"
   ]
  },
  {
   "cell_type": "code",
   "execution_count": 9,
   "metadata": {},
   "outputs": [
    {
     "name": "stdout",
     "output_type": "stream",
     "text": [
      "The Accuracy is:  0.9844972907886815\n"
     ]
    }
   ],
   "source": [
    "#vectorizers break the words and CountVectorizers counts the occurance of each words\n",
    "vectorizer = CountVectorizer()\n",
    "counts = vectorizer.fit_transform(X_test)\n",
    "\n",
    "classifier = MultinomialNB()\n",
    "target = y_test\n",
    "classifier.fit(counts, target)\n",
    "\n",
    "#The accuracy of the classifier\n",
    "print(\"The Accuracy is: \",classifier.score(counts, target))"
   ]
  },
  {
   "cell_type": "code",
   "execution_count": 10,
   "metadata": {},
   "outputs": [
    {
     "data": {
      "text/plain": [
       "array(['spam', 'ham'], dtype='<U4')"
      ]
     },
     "execution_count": 10,
     "metadata": {},
     "output_type": "execute_result"
    }
   ],
   "source": [
    "example = ['Click here to start making free money!!', \"Dear Students PFA..The B.Tech IT Minor Project Final review is scheduled on 7/5/2016 and 9/5/2016.While coming for final review, A) Students should complete the 100% project and need to show the full project demo. B) Each students in a every group have to submit their report and one report + CD(Documentation+ Coding) should be submitted to the department from each group. ( report format attached with this mail ),C) Students those who are not present for a final review at correct time are considered as arrear in minor project.D) 28/4/16 is the last date for the submission of Minor Project Report to get signature from the hod.\"]\n",
    "example_count = vectorizer.transform(example)\n",
    "classifier.predict(example_count)"
   ]
  },
  {
   "cell_type": "code",
   "execution_count": 11,
   "metadata": {},
   "outputs": [],
   "source": [
    "# plt.bar(data['emails'], height = 4)\n",
    "# plt.show()"
   ]
  },
  {
   "cell_type": "markdown",
   "metadata": {},
   "source": [
    "The GUI "
   ]
  },
  {
   "cell_type": "code",
   "execution_count": 12,
   "metadata": {},
   "outputs": [],
   "source": [
    "import tkinter as tk\n",
    "from PIL import Image, ImageTk"
   ]
  },
  {
   "cell_type": "code",
   "execution_count": 13,
   "metadata": {},
   "outputs": [],
   "source": [
    "window = tk.Tk()\n",
    "window.title('Email Classifier')\n",
    "window.geometry('600x180')\n",
    "\n",
    "def popup(classification):\n",
    "    popup = tk.Tk()\n",
    "    popup.title(\"Email class\")\n",
    "    popup.geometry(\"300x90\")\n",
    "    email_class = classification\n",
    "    alert_color = \"\"\n",
    "    text_label = \"\"\n",
    "    class_img = \"\"\n",
    "    if (email_class == \"spam\"):\n",
    "        alert_color = \"red\"\n",
    "        text_label = \"That looks like a Spam!\"\n",
    "        class_img=\"spamImg.png\"\n",
    "    if (email_class == \"ham\"):\n",
    "        alert_color = \"green\"\n",
    "        text_label = \"That looks Safe!\"\n",
    "        \n",
    "#     img = ImageTk.PhotoImage(Image.open(\"spamImg.png\"))\n",
    "#     panel = tk.Label(popup, image = img)\n",
    "#     panel.pack(side = \"bottom\", fill = \"both\", expand = \"yes\")\n",
    "    label = tk.Label(popup, text = text_label, fg = alert_color, font=(('Corbel'),15))\n",
    "    label.pack(padx = 10, pady=10)\n",
    "    popup.mainloop()\n",
    "    \n",
    "def classify():\n",
    "    text = input_email.get('1.0', 'end')\n",
    "    result = [text]\n",
    "    result_count = vectorizer.transform(result)\n",
    "    popup(classifier.predict(result_count)[0])\n",
    "    \n",
    "text = tk.Label(text=\"Enter emails to classify them!\", font=(('Corbel'),12))\n",
    "input_email = tk.Text(height=5)\n",
    "input_email.insert(0.0, 'The email goes here!')\n",
    "classify_button = tk.Button(text=\"Classify\", font=(('Corbel'),12), command=classify)\n",
    "\n",
    "text.pack(pady=5)\n",
    "input_email.pack(pady=5, padx=6, ipadx=3)\n",
    "classify_button.pack(ipadx=2, ipady=1, pady=3)"
   ]
  },
  {
   "cell_type": "code",
   "execution_count": null,
   "metadata": {},
   "outputs": [],
   "source": [
    "window.mainloop()"
   ]
  }
 ],
 "metadata": {
  "kernelspec": {
   "display_name": "Python 3",
   "language": "python",
   "name": "python3"
  },
  "language_info": {
   "codemirror_mode": {
    "name": "ipython",
    "version": 3
   },
   "file_extension": ".py",
   "mimetype": "text/x-python",
   "name": "python",
   "nbconvert_exporter": "python",
   "pygments_lexer": "ipython3",
   "version": "3.8.5"
  }
 },
 "nbformat": 4,
 "nbformat_minor": 4
}
